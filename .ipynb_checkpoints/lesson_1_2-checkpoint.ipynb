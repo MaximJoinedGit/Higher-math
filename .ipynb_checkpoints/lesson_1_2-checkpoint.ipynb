{
 "cells": [
  {
   "cell_type": "markdown",
   "metadata": {},
   "source": [
    "## <center> Урок 1, 2</center>\n",
    "<hr>"
   ]
  },
  {
   "cell_type": "markdown",
   "metadata": {},
   "source": [
    "## <center> Введение в мат. анализ </center>"
   ]
  },
  {
   "cell_type": "code",
   "execution_count": 41,
   "metadata": {},
   "outputs": [],
   "source": [
    "from matplotlib import pyplot as plt\n",
    "import numpy as np\n",
    "from math import factorial, sqrt\n",
    "\n",
    "%matplotlib inline"
   ]
  },
  {
   "cell_type": "markdown",
   "metadata": {},
   "source": [
    "### <b> Задание 1 </b>"
   ]
  },
  {
   "cell_type": "markdown",
   "metadata": {},
   "source": [
    "#### Как относятся друг к другу множество и последовательность? (в ответе использовать слова типа: часть, целое, общее, частное, родитель, дочерний субъект и т.д.)"
   ]
  },
  {
   "cell_type": "markdown",
   "metadata": {},
   "source": [
    "#### Последовательность может являться частным случаем упорядоченного множества. Последовательность — это пронумерованный набор каких-либо объектов, среди которых допускаются повторения, причём порядок объектов имеет значение. Нумерация чаще всего происходит натуральными числами (множество N). Последовательность может быть родителем для нескольких множеств."
   ]
  },
  {
   "cell_type": "markdown",
   "metadata": {},
   "source": [
    "### <b> Задание 2 </b>"
   ]
  },
  {
   "cell_type": "markdown",
   "metadata": {},
   "source": [
    "#### 1) Для любого y, принадлежащего отрезку от 0 включительно до 1 включительно, sgn(y) = 1. Высказывание ложно.\n",
    "\n",
    "#### Отрицание:\n",
    "$\\exists y \\in [0; 1]: sgn(y) \\neq 1$"
   ]
  },
  {
   "cell_type": "markdown",
   "metadata": {},
   "source": [
    "#### 2) Для любого n, принадлежащего множеству N > 2, существует такие x, y, z, принадлежащие N, что $x^n = y^n + z^n$. Высказывание ложно.\n",
    "\n",
    "#### Отрицание:\n",
    "$\\exists n \\in N>2: \\forall x, y, z \\in N: x^n \\neq y^n + z^n$"
   ]
  },
  {
   "cell_type": "markdown",
   "metadata": {},
   "source": [
    "#### 3) Для любого x, принадлежащего множеству R, существует такое множество X, принадлежащее R, такое, что X > x. Высказывание ложно.\n",
    "\n",
    "#### Отрицание:\n",
    "$\\exists n \\in R \\forall X \\in R: X \\leq x$"
   ]
  },
  {
   "cell_type": "markdown",
   "metadata": {},
   "source": [
    "#### 4) Для любого x, принадлежащего множеству C, не существует такго y, принадлежащего C, такое, что x > y или x < y. Высказывание ложно.\n",
    "\n",
    "#### Отрицание:\n",
    "$\\exists x \\in C \\exists y \\in C: x>y || x<y$"
   ]
  },
  {
   "cell_type": "markdown",
   "metadata": {},
   "source": [
    "#### 5) Для любого y, принадлежащего сегменту от 0 до $\\pi/2$, существует такое $\\varepsilon > 0$, такое, что $sin(y) < sin(y + \\varepsilon)$. Высказывание ложно.\n",
    "\n",
    "#### Отрицание:\n",
    "$\\exists y \\in [0; \\pi/2] \\forall \\varepsilon > 0: sin(y) \\geq sin(y + \\varepsilon)$"
   ]
  },
  {
   "cell_type": "markdown",
   "metadata": {},
   "source": [
    "#### 6) Для любого y, принадлежащего полуинтервалу от 0 до $\\pi$, существует такое $\\varepsilon > 0$, такое, что $cos(y) > cos(y + \\varepsilon)$. Высказывание истинно.\n",
    "\n",
    "#### Отрицание:\n",
    "$\\exists y \\in [0; \\pi) \\forall \\varepsilon > 0: cos(y) \\leq cos(y + \\varepsilon)$"
   ]
  },
  {
   "cell_type": "markdown",
   "metadata": {},
   "source": [
    "#### 7) Существует такое x, не принадлежащее ни одному их множеств N, Z, Q, R, C. Высказываение ложно.\n",
    "\n",
    "#### Отрицание:\n",
    "$\\exists x: x \\in \\{N, Z, Q, R, C\\}$"
   ]
  },
  {
   "cell_type": "markdown",
   "metadata": {},
   "source": [
    "## <center> Множество </center>"
   ]
  },
  {
   "cell_type": "markdown",
   "metadata": {},
   "source": [
    "### Даны три множества a,b и с. Необходимо выполнить все изученные виды бинарных операций над всеми комбинациями множеств."
   ]
  },
  {
   "cell_type": "code",
   "execution_count": 2,
   "metadata": {
    "id": "M2yvokrgLwIR"
   },
   "outputs": [],
   "source": [
    "A = {1, 2, 3, 4, 5}\n",
    "B = {4, 5, 6, 7, 8}\n",
    "C = {1, 3, 5, 7, 9, 11, 13, 15}"
   ]
  },
  {
   "cell_type": "code",
   "execution_count": 3,
   "metadata": {
    "id": "VCiUpVqhLwIa",
    "outputId": "b46b18cd-8601-4739-f3da-d764bb1ef828"
   },
   "outputs": [
    {
     "name": "stdout",
     "output_type": "stream",
     "text": [
      "{1, 2, 3, 4, 5, 7, 9, 11, 13, 15}\n",
      "{1, 2, 3, 4, 5, 6, 7, 8, 9, 11, 13, 15}\n"
     ]
    }
   ],
   "source": [
    "# Объединение множеств:\n",
    "print(A  | C)\n",
    "print(B.union(A).union(C))"
   ]
  },
  {
   "cell_type": "code",
   "execution_count": 4,
   "metadata": {
    "id": "wkslKVBHLwIs",
    "outputId": "bfb7c7d6-ace9-421c-ccd5-aece80c12439"
   },
   "outputs": [
    {
     "name": "stdout",
     "output_type": "stream",
     "text": [
      "{5, 7}\n",
      "{5}\n"
     ]
    }
   ],
   "source": [
    "# Пересечение множеств:\n",
    "print(B & C)\n",
    "print(B.intersection(A).intersection(C))"
   ]
  },
  {
   "cell_type": "code",
   "execution_count": 5,
   "metadata": {
    "id": "nOtAL6aTLwI1",
    "outputId": "de14eba2-3a56-49bd-912b-2fb4f8c870e5"
   },
   "outputs": [
    {
     "name": "stdout",
     "output_type": "stream",
     "text": [
      "{2}\n",
      "{8, 6}\n",
      "{1, 3, 9, 11, 13, 15}\n"
     ]
    }
   ],
   "source": [
    "# Разность множеств:\n",
    "print(A - B - C)\n",
    "print(B.difference(A).difference(C))\n",
    "print(C.difference(B))"
   ]
  },
  {
   "cell_type": "code",
   "execution_count": 6,
   "metadata": {
    "id": "HqPrnO2lLwI8",
    "outputId": "69d8d6e1-2aaa-4e87-a8e2-1d5af413d131"
   },
   "outputs": [
    {
     "name": "stdout",
     "output_type": "stream",
     "text": [
      "{1, 2, 3, 6, 7, 8}\n",
      "{2, 4, 7, 9, 11, 13, 15}\n",
      "{1, 3, 4, 6, 8, 9, 11, 13, 15}\n"
     ]
    }
   ],
   "source": [
    "#Симметричная разность:\n",
    "print(A ^ B)\n",
    "print(A.symmetric_difference(C))\n",
    "print(B.symmetric_difference(C))"
   ]
  },
  {
   "cell_type": "markdown",
   "metadata": {},
   "source": [
    "## <center> Последовательность </center>"
   ]
  },
  {
   "cell_type": "markdown",
   "metadata": {},
   "source": [
    "#### 1. Даны 4 последовательности. Необходимо:\n",
    " - исследовать их на монотонность; \n",
    " - исследовать на ограниченность;\n",
    " - найти пятый по счету член."
   ]
  },
  {
   "cell_type": "markdown",
   "metadata": {},
   "source": [
    "### $\\{a_n\\}^\\infty_{n=1}=2^n-n$\n",
    "Последовательность возрастающая, ограничена снизу 1.\n",
    "Пятый член последовательности 27."
   ]
  },
  {
   "cell_type": "code",
   "execution_count": 43,
   "metadata": {},
   "outputs": [
    {
     "name": "stdout",
     "output_type": "stream",
     "text": [
      "[ 1.  2.  5. 12. 27.]\n"
     ]
    }
   ],
   "source": [
    "n = np.linspace(1, 5, 5)\n",
    "a = 2**n - n\n",
    "print(a)"
   ]
  },
  {
   "cell_type": "markdown",
   "metadata": {},
   "source": [
    "### $\\{b_n\\}^\\infty_{n=2}=\\frac1{1-n}$\n",
    "Последовательность возрастающая. Значения находятся всегда между 0 и 1. Пятый член последовательности ($-\\frac{1}{5}$)"
   ]
  },
  {
   "cell_type": "code",
   "execution_count": 44,
   "metadata": {},
   "outputs": [
    {
     "name": "stdout",
     "output_type": "stream",
     "text": [
      "[-1.         -0.5        -0.33333333 -0.25       -0.2       ]\n"
     ]
    }
   ],
   "source": [
    "n = np.linspace(2, 6, 5)\n",
    "b = 1 / (1 - n)\n",
    "print(b)"
   ]
  },
  {
   "cell_type": "markdown",
   "metadata": {},
   "source": [
    "### $\\{c_n\\}^\\infty_{n=1}=-1^n+\\sqrt{2n}$\n",
    "Последовательность возрастающая, ограниченная снизу $\\sqrt2-1$. Пятый член последовательности $\\sqrt10-1$"
   ]
  },
  {
   "cell_type": "code",
   "execution_count": 38,
   "metadata": {},
   "outputs": [
    {
     "name": "stdout",
     "output_type": "stream",
     "text": [
      "[0.41421356 1.         1.44948974 1.82842712 2.16227766]\n"
     ]
    }
   ],
   "source": [
    "n = np.linspace(1, 5, 5)\n",
    "a = -1**n + np.sqrt(2*n)\n",
    "print(a)"
   ]
  },
  {
   "cell_type": "markdown",
   "metadata": {},
   "source": [
    "### $\\{d_n\\}^\\infty_{n=1}=(-1)^{2n}+\\frac1{n^2}$\n",
    "Последовательность убывающая, лежит на отрезке от 2, до 1. Пятый член последовательности $\\frac{26}{25}$"
   ]
  },
  {
   "cell_type": "code",
   "execution_count": 46,
   "metadata": {},
   "outputs": [
    {
     "name": "stdout",
     "output_type": "stream",
     "text": [
      "[2.         1.25       1.11111111 1.0625     1.04      ]\n"
     ]
    }
   ],
   "source": [
    "n = np.linspace(1, 5, 5)\n",
    "a = (-1)**(2 * n) + 1 / (n**2)\n",
    "print(a)"
   ]
  },
  {
   "cell_type": "markdown",
   "metadata": {},
   "source": [
    "#### 2. Найти 12-й член заданной неявно последовательности $a_1 = 128,\\ a_{n+1} - a_n = 6$"
   ]
  },
  {
   "cell_type": "markdown",
   "metadata": {},
   "source": [
    "$a_{n+1}=a_n+q$\n",
    "\n",
    "$q=6$\n",
    "\n",
    "$a_{n}=a_1+q*{(n-1)}$\n",
    "\n",
    "$a_{12}=a_1+6*{(12-1)}=128+66=194$"
   ]
  },
  {
   "cell_type": "markdown",
   "metadata": {},
   "source": [
    "#### 3. *На языке Python предложить алгоритм вычисляющий численно предел с точностью  $\\varepsilon=10^{-7}$\n",
    "\n",
    "### $\\lim\\limits_{n\\to+\\infty}\\frac{n}{\\sqrt[n]{n!}}$"
   ]
  },
  {
   "cell_type": "code",
   "execution_count": 71,
   "metadata": {},
   "outputs": [
    {
     "data": {
      "text/plain": [
       "(0.0, 170.0)"
      ]
     },
     "execution_count": 71,
     "metadata": {},
     "output_type": "execute_result"
    },
    {
     "data": {
      "image/png": "[encoded data removed]",
      "text/plain": [
       "<Figure size 432x288 with 1 Axes>"
      ]
     },
     "metadata": {
      "needs_background": "light"
     },
     "output_type": "display_data"
    }
   ],
   "source": [
    "n = 170\n",
    "x = np.arange(1, n + 1)\n",
    "down = np.array([factorial(i) for i in x])\n",
    "y = x / down**(1/x)\n",
    "plt.plot(x, y)\n",
    "plt.grid(True)\n",
    "plt.ylim(1, 2.8)\n",
    "plt.xlim(0, 170)"
   ]
  },
  {
   "cell_type": "markdown",
   "metadata": {},
   "source": [
    "Последовательность стремится к числу Эйлера."
   ]
  },
  {
   "cell_type": "code",
   "execution_count": 79,
   "metadata": {},
   "outputs": [
    {
     "name": "stdout",
     "output_type": "stream",
     "text": [
      "9.999999983634211e-08\n",
      "-9.999999983634211e-08\n"
     ]
    }
   ],
   "source": [
    "n = 170\n",
    "down = factorial(n)\n",
    "\n",
    "y = n / down**(1/n)\n",
    "eps = 10**(-7)\n",
    "delta_min = y - eps\n",
    "delta_max = y + eps\n",
    "print(y - delta_min)\n",
    "print(y - delta_max)"
   ]
  },
  {
   "cell_type": "code",
   "execution_count": null,
   "metadata": {},
   "outputs": [],
   "source": []
  }
 ],
 "metadata": {
  "kernelspec": {
   "display_name": "Python 3",
   "language": "python",
   "name": "python3"
  },
  "language_info": {
   "codemirror_mode": {
    "name": "ipython",
    "version": 3
   },
   "file_extension": ".py",
   "mimetype": "text/x-python",
   "name": "python",
   "nbconvert_exporter": "python",
   "pygments_lexer": "ipython3",
   "version": "3.8.5"
  }
 },
 "nbformat": 4,
 "nbformat_minor": 4
}
