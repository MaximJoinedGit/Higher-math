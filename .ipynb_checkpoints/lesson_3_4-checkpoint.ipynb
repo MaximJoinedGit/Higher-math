{
 "cells": [
  {
   "cell_type": "markdown",
   "metadata": {},
   "source": [
    "## <center> Урок 3, 4</center>\n",
    "<hr>"
   ]
  },
  {
   "cell_type": "markdown",
   "metadata": {},
   "source": [
    "## <center> Теорема о пределах </center>"
   ]
  },
  {
   "cell_type": "code",
   "execution_count": 6,
   "metadata": {},
   "outputs": [],
   "source": [
    "from matplotlib import pyplot as plt\n",
    "import numpy as np"
   ]
  },
  {
   "cell_type": "markdown",
   "metadata": {},
   "source": [
    "### Задание 1. \n",
    "\n",
    "#### Предложить пример функции, не имеющей предела в нуле и в бесконечностях."
   ]
  },
  {
   "cell_type": "markdown",
   "metadata": {},
   "source": [
    "$y = sin(x) + sin(1/x)$"
   ]
  },
  {
   "cell_type": "markdown",
   "metadata": {},
   "source": [
    "### Задание 2.\n",
    "\n",
    "#### Привести пример функции, не имеющей предела в точке, но определенной в ней."
   ]
  },
  {
   "cell_type": "markdown",
   "metadata": {},
   "source": [
    "Функция sgn() определена в точке 0, не имеет предела в этой точке."
   ]
  },
  {
   "cell_type": "markdown",
   "metadata": {},
   "source": [
    "### Задание 3. \n",
    "\n",
    "#### Исследовать функцию $f(x) = x^3 - x^2$ по плану:\n",
    "\n",
    "- Область задания и область значений. \n",
    "\n",
    "$(-\\infty; \\infty)$\n",
    "\n",
    "- Нули функции и их кратность. \n",
    "\n",
    "0 (кратность 2) и 1 (кратность 1). \n",
    "\n",
    "- Отрезки знакопостоянства. \n",
    "\n",
    "$(-\\infty; -0), (0; 1)$ - отрицательные значения, \n",
    "\n",
    "$(1; \\infty)$ - положительные\n",
    "\n",
    "$(-\\infty; 0)$ и $(2/3; \\infty)$ - функция возрастает\n",
    "\n",
    "$(0; 2/3)$ - убывает\n",
    "\n",
    "- Интервалы монотонности.\n",
    "\n",
    "$(-\\infty; 0), (1; \\infty)$ - монотонно возрастает\n",
    "$(0; 1)$ - монотонно убывает\n",
    "\n",
    "- Четность функции.\n",
    "\n",
    "Функция не четна и не нечетна (общего вида)\n",
    "\n",
    "- Ограниченность.\n",
    "\n",
    "Функция не ограничена\n",
    "\n",
    "- Периодичность.\n",
    "\n",
    "Функция непериодична"
   ]
  },
  {
   "cell_type": "code",
   "execution_count": 13,
   "metadata": {},
   "outputs": [
    {
     "data": {
      "image/png": "[encoded data removed]",
      "text/plain": [
       "<Figure size 432x288 with 1 Axes>"
      ]
     },
     "metadata": {
      "needs_background": "light"
     },
     "output_type": "display_data"
    }
   ],
   "source": [
    "x = np.linspace(-1, 1.5, 1000)\n",
    "y = x**3 - x**2\n",
    "plt.plot(x, y)\n",
    "plt.grid(True)"
   ]
  },
  {
   "cell_type": "markdown",
   "metadata": {},
   "source": [
    "### Задание 4.\n",
    "\n",
    "#### Найти предел:\n",
    "\n",
    "### 1. $\\lim\\limits_{x\\to 0} \\frac{3x^3 - 2x^2}{4x^2}$"
   ]
  },
  {
   "cell_type": "markdown",
   "metadata": {},
   "source": [
    "#### $\\lim\\limits_{x\\to 0} \\frac{3x^3 - 2x^2}{4x^2} = \\lim\\limits_{x\\to 0} \\frac{x^2 \\cdot ({3x - 2})}{4x^2} = \\lim\\limits_{x\\to 0} \\frac {3x - 2}{4} = -\\frac{1}{2}$"
   ]
  },
  {
   "cell_type": "markdown",
   "metadata": {},
   "source": [
    "### 2. $\\lim_{x \\to 0} \\frac{\\sqrt{1+x}-1}{\\sqrt[3]{1+x}-1}$"
   ]
  },
  {
   "cell_type": "markdown",
   "metadata": {},
   "source": [
    "#### $\\frac{\\sqrt{1+x}-1}{\\sqrt[3]{1+x}-1}\\cdot\\frac{\\sqrt{1+x}+1}{\\sqrt{1+x}+1}\\cdot\\frac{({\\sqrt[3]{1+x}})^2+\\sqrt[3]{1+x}+1}{({\\sqrt[3]{1+x}})^2+\\sqrt[3]{1+x}+1}=\\frac{(\\sqrt{1+x})^2-1^2}{(\\sqrt[3]{1+x})^3-1^3}\\cdot\\frac{({\\sqrt[3]{1+x}})^2+\\sqrt[3]{1+x}+1}{\\sqrt{1+x}+1}=\\frac{({\\sqrt[3]{1+0}})^2+\\sqrt[3]{1+0}+1}{\\sqrt{1+0}+1}=\\frac3{2}$"
   ]
  },
  {
   "cell_type": "markdown",
   "metadata": {},
   "source": [
    "### 3. $\\lim\\limits_{x\\to \\infty} (\\frac{x + 3}{x}) ^ {4x + 1}$"
   ]
  },
  {
   "cell_type": "markdown",
   "metadata": {},
   "source": [
    "#### $\\lim_\\limits{x \\to \\infty}(1+\\frac3{x})^{\\frac{x}{3}\\cdot\\frac3{x}\\cdot(4x+1)}=e^{\\lim_\\limits{x \\to \\infty}\\frac3{x}\\cdot(4x+1)}=e^{\\lim_\\limits{x \\to \\infty}\\frac{12x+3}{x}}=e^{12}$"
   ]
  },
  {
   "cell_type": "markdown",
   "metadata": {},
   "source": [
    "## <center> Предел функции </center>"
   ]
  },
  {
   "cell_type": "markdown",
   "metadata": {},
   "source": [
    "### 1. $\\lim\\limits_{x\\to 0} \\frac{\\sin(2x)}{4x} = \\frac{1}{2}$"
   ]
  },
  {
   "cell_type": "markdown",
   "metadata": {},
   "source": [
    "### 2. $\\lim\\limits_{x\\to 0} \\frac{x}{\\sin(x)} = 1$"
   ]
  },
  {
   "cell_type": "markdown",
   "metadata": {},
   "source": [
    "### 3. $\\lim\\limits_{x\\to 0} \\frac{x}{\\arcsin(x)} = 1$"
   ]
  },
  {
   "cell_type": "markdown",
   "metadata": {},
   "source": [
    "### 4. $\\lim\\limits_{x\\to \\infty} (\\frac{4x + 3}{4x - 3})^{6x} = \\lim\\limits_{x\\to \\infty} (\\frac{4x(-3+3)+3}{4x-3})^{6x}=\\lim\\limits_{x\\to \\infty} (1+\\frac{6}{4x-3})^{\\frac{4x-3}{6}\\cdot \\frac{6}{4x-3}\\cdot {6x}}=e^{\\lim_{x \\to \\infty} \\frac{36x}{4x-3}}=e^{9}$"
   ]
  },
  {
   "cell_type": "markdown",
   "metadata": {},
   "source": [
    "### 5. $\\lim\\limits_{x\\to \\infty} \\frac{sin(x) + ln(x)}{x} = \\lim\\limits_{x\\to \\infty} (\\frac{sin{x}}{x}+\\frac{ln{x}}{x}) = 0$"
   ]
  },
  {
   "cell_type": "markdown",
   "metadata": {},
   "source": [
    "### 6. $\\lim\\limits_{x\\to 0} \\frac{sin(x) + ln(x)}{x} = \\lim\\limits_{x\\to 0} (\\frac{sin{x}}{x}+\\frac{ln{x}}{x}) = \\infty$"
   ]
  }
 ],
 "metadata": {
  "kernelspec": {
   "display_name": "Python 3",
   "language": "python",
   "name": "python3"
  },
  "language_info": {
   "codemirror_mode": {
    "name": "ipython",
    "version": 3
   },
   "file_extension": ".py",
   "mimetype": "text/x-python",
   "name": "python",
   "nbconvert_exporter": "python",
   "pygments_lexer": "ipython3",
   "version": "3.8.5"
  }
 },
 "nbformat": 4,
 "nbformat_minor": 4
}
