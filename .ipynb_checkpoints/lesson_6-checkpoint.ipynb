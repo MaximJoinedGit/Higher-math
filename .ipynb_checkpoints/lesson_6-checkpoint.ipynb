{
 "cells": [
  {
   "cell_type": "markdown",
   "metadata": {},
   "source": [
    "## <center> Урок 3, 4</center>\n",
    "<hr>"
   ]
  },
  {
   "cell_type": "markdown",
   "metadata": {},
   "source": [
    "## <center> Производная функции одной переменной </center>"
   ]
  },
  {
   "cell_type": "markdown",
   "metadata": {},
   "source": [
    "### 1. Найти длину x и ширину y прямоугольника при заданном периметре P=144 cм, при которых данный прямоугольник имеет наибольшую площадь S."
   ]
  },
  {
   "cell_type": "markdown",
   "metadata": {},
   "source": [
    "Площадь прямоугольника можно найти по формуле:\n",
    "$S = a * b$"
   ]
  },
  {
   "cell_type": "markdown",
   "metadata": {},
   "source": [
    "Периметр прямоугольника равен $P = 2a + 2b$, отсюда можем найти одну из сторон, выраженную через периметр, чтобы решить проблему функции двух переменных."
   ]
  },
  {
   "cell_type": "markdown",
   "metadata": {},
   "source": [
    "$a = \\frac{P}{2} - b$"
   ]
  },
  {
   "cell_type": "markdown",
   "metadata": {},
   "source": [
    "Подставим полученное выражение в площадь: $S = \\frac{Pb}{2} - b^2$"
   ]
  },
  {
   "cell_type": "markdown",
   "metadata": {},
   "source": [
    "Найдем первую производную: $S' = \\frac{P}{2} - 2b$"
   ]
  },
  {
   "cell_type": "markdown",
   "metadata": {},
   "source": [
    "Приравняем ее у нулю: $\\frac{P}{2} - 2b = 0$"
   ]
  },
  {
   "cell_type": "markdown",
   "metadata": {},
   "source": [
    "Отсюда найдем b: $b = \\frac{P}{4}$"
   ]
  },
  {
   "cell_type": "markdown",
   "metadata": {},
   "source": [
    "Следовательно, наибольшая площадь у прямоугольника будет в случае, если прямоугольник - квадрат. Отсюда сторона квадрата \n",
    "\n",
    "$a = b = \\frac{P}{4} = \\frac{144}{4} = 36см$"
   ]
  },
  {
   "cell_type": "markdown",
   "metadata": {},
   "source": [
    "### 2. Найти экстремумы функций (если они есть)"
   ]
  },
  {
   "cell_type": "markdown",
   "metadata": {},
   "source": [
    "#### $y = |2x|$"
   ]
  },
  {
   "cell_type": "markdown",
   "metadata": {},
   "source": [
    "$|2x|' = 2 \\frac{x}{|x|} = 0$"
   ]
  },
  {
   "cell_type": "markdown",
   "metadata": {},
   "source": [
    "Экстремум функции будет в точке 0. Это будет минимум т.к. при отрицательных значениях x функция убывает, а при положительных возрастает."
   ]
  },
  {
   "cell_type": "markdown",
   "metadata": {},
   "source": [
    "#### $y = x^3$"
   ]
  },
  {
   "cell_type": "markdown",
   "metadata": {},
   "source": [
    "$(x^3)' = 3x^2 = 0$"
   ]
  },
  {
   "cell_type": "markdown",
   "metadata": {},
   "source": [
    "Значение первой производной равно нулю в точке 0, но это не будет являться экстремумом, поскольку до него и после него функция только возрастает."
   ]
  },
  {
   "cell_type": "markdown",
   "metadata": {},
   "source": [
    "#### $y = e^{3x}$"
   ]
  },
  {
   "cell_type": "markdown",
   "metadata": {},
   "source": [
    "$(e^{3x})' = 3e^{3x} = 0$"
   ]
  },
  {
   "cell_type": "markdown",
   "metadata": {},
   "source": [
    "Уравнение, полученное в результате нахождения первой производной и приравненное к 0 не имеет решений, соответственно экстремумов у функции нет."
   ]
  },
  {
   "cell_type": "markdown",
   "metadata": {},
   "source": [
    "#### $y = x^3 - 5x$"
   ]
  },
  {
   "cell_type": "markdown",
   "metadata": {},
   "source": [
    "$(x^3 - 5x)' = 3x^2 - 5 = 0$"
   ]
  },
  {
   "cell_type": "markdown",
   "metadata": {},
   "source": [
    "$x = \\pm\\sqrt{\\frac{5}{3}}$"
   ]
  },
  {
   "cell_type": "markdown",
   "metadata": {},
   "source": [
    "Подставляя корни в начальное уравнение функции мы вычислим, что перед нами два экстремума.\n",
    "\n",
    "$-\\sqrt{\\frac{5}{3}}$ - локальный максимум\n",
    "\n",
    "$\\sqrt{\\frac{5}{3}}$ - лоакльный минимум"
   ]
  }
 ],
 "metadata": {
  "kernelspec": {
   "display_name": "Python 3",
   "language": "python",
   "name": "python3"
  },
  "language_info": {
   "codemirror_mode": {
    "name": "ipython",
    "version": 3
   },
   "file_extension": ".py",
   "mimetype": "text/x-python",
   "name": "python",
   "nbconvert_exporter": "python",
   "pygments_lexer": "ipython3",
   "version": "3.8.5"
  }
 },
 "nbformat": 4,
 "nbformat_minor": 4
}
