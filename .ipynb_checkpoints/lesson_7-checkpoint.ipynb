{
 "cells": [
  {
   "cell_type": "markdown",
   "metadata": {},
   "source": [
    "## <center> Урок 7</center>\n",
    "<hr>"
   ]
  },
  {
   "cell_type": "markdown",
   "metadata": {},
   "source": [
    "## <center> Производная функции нескольких переменных </center>"
   ]
  },
  {
   "cell_type": "markdown",
   "metadata": {},
   "source": [
    "### 1. Найти область определения функции.\n",
    "\n",
    "#### $z = \\sqrt{1 - x^3} + ln(y^2 - 1)$"
   ]
  },
  {
   "cell_type": "markdown",
   "metadata": {},
   "source": [
    "$x \\in \\mathbb{R} \\,\\, | \\,\\, (-\\infty; 1], y \\in \\mathbb{R} \\,\\, | \\,\\, (-\\infty; -1), (1; \\infty)$"
   ]
  },
  {
   "cell_type": "markdown",
   "metadata": {},
   "source": [
    "### 2. Найти производные 1-го порядка функции.\n",
    "\n",
    "#### $z = (1 + \\frac{ln(x)}{ln(y)})^3$"
   ]
  },
  {
   "cell_type": "markdown",
   "metadata": {},
   "source": [
    "#### $\\frac{\\partial{z}}{\\partial{x}} = 3 \\cdot (1 + \\frac{ln(x)}{ln(y)})^2 \\cdot \\frac{1}{x \\cdot ln(y)} = \\frac{3}{x \\cdot ln(y)} \\cdot (1 + \\frac{ln(x)}{ln(y)})^2$"
   ]
  },
  {
   "cell_type": "markdown",
   "metadata": {},
   "source": [
    "#### $\\frac{\\partial{z}}{\\partial{y}} = 3 \\cdot (1 + \\frac{ln(x)}{ln(y)})^2 \\cdot (-\\frac{ln(x)}{y \\cdot ln^2(y)}) = (-\\frac{3 \\cdot ln(x)}{y \\cdot ln^2(y)}) \\cdot (1 + \\frac{ln(x)}{ln(y)})^2$"
   ]
  },
  {
   "cell_type": "markdown",
   "metadata": {},
   "source": [
    "### 3. Найти полный дифференциал функции в точке (1; 1).\n",
    "\n",
    "#### $z = \\sqrt{2xy + cos(\\frac{x}{y})}$"
   ]
  },
  {
   "cell_type": "markdown",
   "metadata": {},
   "source": [
    "#### $\\frac{\\partial{z}}{\\partial{x}} = \\frac{1}{2} \\cdot \\frac{1}{\\sqrt{2xy + cos(\\frac{x}{y})}} \\cdot (2y - sin(\\frac{x}{y})(\\frac{1}{y})) = \\frac{2y - sin(\\frac{x}{y})(\\frac{1}{y})}{2 \\cdot \\sqrt{2xy +cos(\\frac{x}{y})}}$"
   ]
  },
  {
   "cell_type": "markdown",
   "metadata": {},
   "source": [
    "#### $\\frac{\\partial{z}}{\\partial{y}} = \\frac{1}{2} \\cdot \\frac{1}{\\sqrt{2xy + cos(\\frac{x}{y})}} \\cdot (2x - sin(\\frac{x}{y}) \\cdot (-\\frac{x}{y^2})) = \\frac{2x + sin(\\frac{x}{y})(\\frac{x}{y^2})}{2 \\cdot \\sqrt{2xy + cos(\\frac{x}{y})}}$"
   ]
  },
  {
   "cell_type": "markdown",
   "metadata": {},
   "source": [
    "#### $dz = \\frac{\\partial{z}}{\\partial{x}} \\cdot dx + \\frac{\\partial{z}}{\\partial{y}} \\cdot dy = \\frac{2y - sin(\\frac{x}{y})(\\frac{1}{y})}{2 \\cdot \\sqrt{2xy + cos(\\frac{x}{y})}} \\cdot dx + \\frac{2x + sin(\\frac{x}{y})(\\frac{x}{y^2})}{2 \\cdot \\sqrt{2xy + cos(\\frac{x}{y})}} \\cdot dy$"
   ]
  },
  {
   "cell_type": "markdown",
   "metadata": {},
   "source": [
    "#### В точке (1; 1):"
   ]
  },
  {
   "cell_type": "markdown",
   "metadata": {},
   "source": [
    "#### $dz = \\frac{(2 - sin(1))}{2 \\sqrt{2 + cos(1)}} \\cdot dx + \\frac{(2 + sin(1))}{2 \\sqrt{2 + cos(1)}} \\cdot dx$"
   ]
  },
  {
   "cell_type": "markdown",
   "metadata": {},
   "source": [
    "### 4. Исследовать на экстремум функцию.\n",
    "\n",
    "#### $z = x^2 + xy + y^2 - 6x - 9y$"
   ]
  },
  {
   "cell_type": "markdown",
   "metadata": {},
   "source": [
    "#### $z'_x = 2x + y - 6$"
   ]
  },
  {
   "cell_type": "markdown",
   "metadata": {},
   "source": [
    "#### $z'_y = x + 2y - 9$"
   ]
  },
  {
   "cell_type": "markdown",
   "metadata": {},
   "source": [
    "$\\begin{equation*}\n",
    " \\begin{cases}\n",
    "   2x + y - 6 = 0\n",
    "   \\\\\n",
    "   x + 2y - 9 = 0\n",
    " \\end{cases}\n",
    "\\end{equation*}$"
   ]
  },
  {
   "cell_type": "markdown",
   "metadata": {},
   "source": [
    "#### $x = 1, y = 4$"
   ]
  },
  {
   "cell_type": "markdown",
   "metadata": {},
   "source": [
    "$z'_{xx} = 2,\\;\\; z'_{xy} = 1, \\;\\; z'_{yy} = 2$"
   ]
  },
  {
   "cell_type": "markdown",
   "metadata": {},
   "source": [
    "$ \\Delta \\begin{equation*} \n",
    "\\begin{vmatrix}\n",
    "2 & 1 \\\\\n",
    "1 & 2 \\\\\n",
    "\\end{vmatrix}\n",
    "\\end{equation*} = 4 - 1 = 3 \\gt 0$"
   ]
  },
  {
   "cell_type": "markdown",
   "metadata": {},
   "source": [
    "Соответственно, точка (1, 4) - экстремум, а т.к. $z'_{xx} > 0$ этот экстремум - минимум."
   ]
  }
 ],
 "metadata": {
  "kernelspec": {
   "display_name": "Python 3",
   "language": "python",
   "name": "python3"
  },
  "language_info": {
   "codemirror_mode": {
    "name": "ipython",
    "version": 3
   },
   "file_extension": ".py",
   "mimetype": "text/x-python",
   "name": "python",
   "nbconvert_exporter": "python",
   "pygments_lexer": "ipython3",
   "version": "3.8.5"
  }
 },
 "nbformat": 4,
 "nbformat_minor": 4
}
