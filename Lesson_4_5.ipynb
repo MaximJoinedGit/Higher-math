{
 "cells": [
  {
   "cell_type": "markdown",
   "metadata": {},
   "source": [
    "## <center> Урок 4</center>\n",
    "<hr>"
   ]
  },
  {
   "cell_type": "markdown",
   "metadata": {},
   "source": [
    "## <center> Понятие производной </center>"
   ]
  },
  {
   "cell_type": "markdown",
   "metadata": {},
   "source": [
    "### 1. Найти производную функции."
   ]
  },
  {
   "cell_type": "markdown",
   "metadata": {},
   "source": [
    "#### a) $(sin(x)\\cdot cos(x))' = cos^2(x) - sin^2(x)$"
   ]
  },
  {
   "cell_type": "markdown",
   "metadata": {},
   "source": [
    "#### b) $(ln(2x + 1)^3)' = (3\\cdot ln(2x+1))'=\\frac3{(2x+1)}\\cdot2=\\frac6{2x+1}$"
   ]
  },
  {
   "cell_type": "markdown",
   "metadata": {},
   "source": [
    "#### c) $(\\sqrt {sin^2(ln(x^3))})' = \\frac1{2\\sqrt{sin^2(ln(x^3))}} \\cdot 2 sin(ln(x^3)) \\cdot cos(ln(x^3)) \\cdot \\frac{1}{x^3} \\cdot 2x^2 = \\frac{3 cos(ln(x^3))}{x}$"
   ]
  },
  {
   "cell_type": "markdown",
   "metadata": {},
   "source": [
    "#### d) $(\\frac{x^4}{ln(x)})' = \\frac{ 4x^3 lnx - \\frac{x^4}{x}} {ln^2x} = \\frac{x^3(-1 + 4lnx)} {ln^2x}$"
   ]
  },
  {
   "cell_type": "markdown",
   "metadata": {},
   "source": [
    "### 2. Найти выражение производной функции и ее значение в точке:\n",
    "\n",
    "#### $f(x) = cos(x^2 + 3x), x_0 = \\sqrt\\pi$"
   ]
  },
  {
   "cell_type": "markdown",
   "metadata": {},
   "source": [
    "$f'(x) = (-sin(x^2 + 3x))(2x + 3) = (-sin(x(x + 3)))(2x + 3)$"
   ]
  },
  {
   "cell_type": "markdown",
   "metadata": {},
   "source": [
    "$f'(x_0) = (-sin(\\pi(\\pi + 3)))(2\\pi + 3) \\approx 4$"
   ]
  },
  {
   "cell_type": "markdown",
   "metadata": {},
   "source": [
    "###  3. Найти значение производной функции в точке:\n",
    "\n",
    "#### $f(x) = \\frac{x^3 - x^2 - x - 1}{1 + 2x + 3x^2 - 4x^3}, x_0 = 0$"
   ]
  },
  {
   "cell_type": "markdown",
   "metadata": {},
   "source": [
    "#### $f'(x) = \\frac{(3x^2 - 2x - 1)\\cdot(1 + 2x +3x^2 - 4x^3) - (x^3 - x^2 - x - 1)\\cdot(2 + 6x - 12x^2)}{(1 + 2x + 3x^2 - 4x^3)^2}$"
   ]
  },
  {
   "cell_type": "markdown",
   "metadata": {},
   "source": [
    "#### $f'(x_0) = \\frac{(-1)\\cdot(1) - (-1)\\cdot(2)}{1} = 1$"
   ]
  },
  {
   "cell_type": "markdown",
   "metadata": {},
   "source": [
    "### 4. Найти угол наклона касательной к графику функции в точке:\n",
    "\n",
    "#### $f(x) = \\sqrt{3x} \\cdot ln(x), x_0 = 1$"
   ]
  },
  {
   "cell_type": "markdown",
   "metadata": {},
   "source": [
    "#### $f'(x) = 3 \\cdot \\frac{1}{2\\sqrt{3x}} \\cdot ln(x) + \\frac{1}{x} \\cdot \\sqrt{3x} = \\frac{3}{2\\sqrt{3x}} \\cdot ln(x) + \\frac{\\sqrt{3x}}{x}$"
   ]
  },
  {
   "cell_type": "markdown",
   "metadata": {},
   "source": [
    "#### $f'(x_0) = 0 + \\sqrt{3} = \\sqrt{3}$"
   ]
  },
  {
   "cell_type": "markdown",
   "metadata": {},
   "source": [
    "#### $\\alpha = arctg(\\sqrt 3) = \\frac{\\pi}{3} = 60^\\circ$"
   ]
  }
 ],
 "metadata": {
  "kernelspec": {
   "display_name": "Python 3",
   "language": "python",
   "name": "python3"
  },
  "language_info": {
   "codemirror_mode": {
    "name": "ipython",
    "version": 3
   },
   "file_extension": ".py",
   "mimetype": "text/x-python",
   "name": "python",
   "nbconvert_exporter": "python",
   "pygments_lexer": "ipython3",
   "version": "3.8.5"
  }
 },
 "nbformat": 4,
 "nbformat_minor": 4
}
