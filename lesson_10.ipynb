{
 "cells": [
  {
   "cell_type": "markdown",
   "metadata": {},
   "source": [
    "## <center> Урок 10</center>\n",
    "<hr>"
   ]
  },
  {
   "cell_type": "markdown",
   "metadata": {},
   "source": [
    "## <center> Понятие об интеграле </center>"
   ]
  },
  {
   "cell_type": "markdown",
   "metadata": {},
   "source": [
    "### 1. Исследовать ряд на сходимость, используя признак Д'Аламбера: $\\sum \\limits_{i=1}^{\\infty}{\\frac{n^n}{n!^2}}$"
   ]
  },
  {
   "cell_type": "markdown",
   "metadata": {},
   "source": [
    "#### $a_n = \\frac{n^n}{n!^2}$"
   ]
  },
  {
   "cell_type": "markdown",
   "metadata": {},
   "source": [
    "#### $a_{n + 1} = \\frac{(n + 1)^{n + 1}}{(n + 1)!^2}$"
   ]
  },
  {
   "cell_type": "markdown",
   "metadata": {},
   "source": [
    "#### $\\lim\\limits_{x \\to \\infty} \\frac{(n + 1)^{n + 1} \\cdot n!^2}{(n + 1)!^2 \\cdot n^n} = \\lim\\limits_{x \\to \\infty} \\frac{(n + 1)^{n - 1}}{n^n} = \\lim\\limits_{x \\to \\infty} \\frac{1}{n + 1} = 0$"
   ]
  },
  {
   "cell_type": "markdown",
   "metadata": {},
   "source": [
    "Ряд является сходящимся по признаку Д'Аламбера."
   ]
  },
  {
   "cell_type": "markdown",
   "metadata": {},
   "source": [
    "### 2. Исследовать ряд на сходимость, используя радикальный признак Коши: $\\sum \\limits_{n = 1}^{\\infty} \\frac{n}{2^n}$"
   ]
  },
  {
   "cell_type": "markdown",
   "metadata": {},
   "source": [
    "#### $\\lim\\limits_{x \\to \\infty} \\sqrt[n]{\\frac{n}{2^n}} = \\frac{\\sqrt[n]n}{2} = \\frac{1}{2}$"
   ]
  },
  {
   "cell_type": "markdown",
   "metadata": {},
   "source": [
    "Ряд является сходящимся по радикальному признаку Коши."
   ]
  },
  {
   "cell_type": "markdown",
   "metadata": {},
   "source": [
    "### 3. Исследовать ряд на сходимость, используя признак Лейбница: $\\sum \\limits_{n = 1}^{\\infty} \\frac{(-1)^n}{n + ln(n)}$"
   ]
  },
  {
   "cell_type": "markdown",
   "metadata": {},
   "source": [
    "#### $\\lim\\limits_{x \\to \\infty} \\frac{(-1)^n}{n + ln(n)} = 0$"
   ]
  },
  {
   "cell_type": "markdown",
   "metadata": {},
   "source": [
    "$|a_n| \\geq |a_{n + 1}|$"
   ]
  },
  {
   "cell_type": "markdown",
   "metadata": {},
   "source": [
    "Например: $|a_{10}| \\geq |a_{11}|$"
   ]
  },
  {
   "cell_type": "markdown",
   "metadata": {},
   "source": [
    "#### $\\sum \\limits_{n = 1}^{\\infty} \\left| \\frac{(-1)^n}{n + ln(n)} \\right| = 0$"
   ]
  },
  {
   "cell_type": "markdown",
   "metadata": {},
   "source": [
    "Ряд является сходящимся абсолютно по признаку Лейбница."
   ]
  },
  {
   "cell_type": "markdown",
   "metadata": {},
   "source": [
    "### 4. Исследовать ряд на сходимость, используя признак Раабе: $\\sum \\limits_{n = 1}^{\\infty} \\frac{3^n}{2^n}$"
   ]
  },
  {
   "cell_type": "markdown",
   "metadata": {},
   "source": [
    "#### $a_n = \\frac{3^n}{2^n}$"
   ]
  },
  {
   "cell_type": "markdown",
   "metadata": {},
   "source": [
    "#### $a_{n + 1} = \\frac{3^{n + 1}}{2^{n + 1}}$"
   ]
  },
  {
   "cell_type": "markdown",
   "metadata": {},
   "source": [
    "#### $\\lim\\limits_{n \\to \\infty} (n \\cdot (\\frac{a_n}{a_{n + 1}} - 1)) = \\lim\\limits_{n \\to \\infty} n \\cdot (\\frac{3^n \\cdot 2^{n + 1}}{2^n \\cdot 3^{n + 1}} - 1) = \\lim\\limits_{n \\to \\infty} n \\cdot (\\frac{2}{3} - 1) = \\lim\\limits_{n \\to \\infty} -\\frac{1}{3}n = - \\infty$"
   ]
  },
  {
   "cell_type": "markdown",
   "metadata": {},
   "source": [
    "Ряд является расходящимся по признаку Раабе."
   ]
  },
  {
   "cell_type": "markdown",
   "metadata": {},
   "source": [
    "### 5. Разложить функцию по Тейлору в единице. $f(x) = ln(16x^2)$"
   ]
  },
  {
   "cell_type": "markdown",
   "metadata": {},
   "source": [
    "#### $f(x) = ln(16x^2), \\;\\;\\; f(1) = ln(16)$"
   ]
  },
  {
   "cell_type": "markdown",
   "metadata": {},
   "source": [
    "#### $f'(x) = \\frac{1}{16x^2} \\cdot 32x = \\frac{2}{x}, \\;\\;\\; f'(1) = 2$"
   ]
  },
  {
   "cell_type": "markdown",
   "metadata": {},
   "source": [
    "#### $f''(x) = - \\frac{2}{x^2}, \\;\\;\\; f''(1) = -2$"
   ]
  },
  {
   "cell_type": "markdown",
   "metadata": {},
   "source": [
    "#### $f'''(x) = \\frac{4}{x^3}, \\;\\;\\; f'''(1) = 4$"
   ]
  },
  {
   "cell_type": "markdown",
   "metadata": {},
   "source": [
    "#### $f^{(IV)}(x) = -\\frac{12}{x^4}, \\;\\;\\; f^{(IV)}(1) = -12$"
   ]
  },
  {
   "cell_type": "markdown",
   "metadata": {},
   "source": [
    "#### $f(x) = \\sum \\limits_{n = 0}^{\\infty} \\frac{f^{(n)}(a)}{n!} \\cdot (x - a)^n = f(a) + f'(a)(x - a) + \\frac{f''(a)}{2!} \\cdot (x - a)^2 + \\frac{f'''(a)}{3!} \\cdot (x - a)^3 + \\frac{f^{(IV)}(a)}{4!} \\cdot (x - a)^4 + ... + \\frac{f^{(k)}(a)}{k!} \\cdot (x - a) ^ k$"
   ]
  },
  {
   "cell_type": "markdown",
   "metadata": {},
   "source": [
    "#### $f(x) = ln(16) + 2 \\cdot (x - 1) + \\frac{-2}{2!} \\cdot (x - 1)^2 + \\frac{4}{3!} \\cdot (x - a)^3 + \\frac{-12}{4!} \\cdot (x - 1)^4 + \\; ...$"
   ]
  },
  {
   "cell_type": "markdown",
   "metadata": {},
   "source": [
    "#### $f(x) = ln(16) + \\sum \\limits_{n = 1}^{\\infty}- \\frac{2 \\cdot (-1)^n \\cdot (x - 1)^n}{n}$"
   ]
  },
  {
   "cell_type": "markdown",
   "metadata": {},
   "source": [
    "### 6. Дана функция $f(x) = x^2$\n",
    "### a) Разложить функцию в ряд Фурье по косинусам на отрезке $x \\in [-\\pi; \\pi]$\n",
    "### б) Построить график функции и ее разложения."
   ]
  },
  {
   "cell_type": "markdown",
   "metadata": {},
   "source": [
    "#### $f(x) = a_0 + \\sum \\limits_{n = 1}^{\\infty} (a_n \\cdot cos(nx) + b_n \\cdot sin(nx))$"
   ]
  },
  {
   "cell_type": "markdown",
   "metadata": {},
   "source": [
    "#### $a_0 = \\frac{1}{2 \\pi} \\int \\limits_{-\\pi}^{\\pi} f(x)dx = \\frac{1}{2 \\pi} \\int \\limits_{-\\pi}^{\\pi} x^2dx = \\frac{\\pi^2}{3}$"
   ]
  },
  {
   "cell_type": "markdown",
   "metadata": {},
   "source": [
    "#### $a_n = \\frac{1}{\\pi} \\int \\limits_{-\\pi}^{\\pi} f(x) \\cdot cos(nx)dx = \\frac{1}{\\pi} \\int \\limits_{-\\pi}^{\\pi} x^2 \\cdot cos(nx)dx = - \\frac{4}{n^2}$"
   ]
  },
  {
   "cell_type": "markdown",
   "metadata": {},
   "source": [
    "#### $b_n = \\frac{1}{\\pi} \\int \\limits_{-\\pi}^{\\pi} f(x) \\cdot sin(nx)dx = \\frac{1}{\\pi} \\int \\limits_{-\\pi}^{\\pi} x^2 \\cdot sin(nx)dx = 0$"
   ]
  },
  {
   "cell_type": "markdown",
   "metadata": {},
   "source": [
    "#### $f(x) = \\frac{\\pi^2}{3} + \\sum \\limits_{n = 1}^{\\infty} - \\frac{4}{n^2} cos(nx)$"
   ]
  },
  {
   "cell_type": "code",
   "execution_count": null,
   "metadata": {},
   "outputs": [],
   "source": []
  }
 ],
 "metadata": {
  "kernelspec": {
   "display_name": "Python 3",
   "language": "python",
   "name": "python3"
  },
  "language_info": {
   "codemirror_mode": {
    "name": "ipython",
    "version": 3
   },
   "file_extension": ".py",
   "mimetype": "text/x-python",
   "name": "python",
   "nbconvert_exporter": "python",
   "pygments_lexer": "ipython3",
   "version": "3.8.5"
  }
 },
 "nbformat": 4,
 "nbformat_minor": 4
}
