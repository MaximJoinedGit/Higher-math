{
 "cells": [
  {
   "cell_type": "markdown",
   "metadata": {},
   "source": [
    "## <center> Урок 8</center>\n",
    "<hr>"
   ]
  },
  {
   "cell_type": "markdown",
   "metadata": {},
   "source": [
    "## <center> Функция нескольких переменных </center>"
   ]
  },
  {
   "cell_type": "markdown",
   "metadata": {},
   "source": [
    "### 1. Исследовать функцию $U = 3 - 8x + 6y$ на условный экстремум, если $x^2 + y^2 = 36$."
   ]
  },
  {
   "cell_type": "markdown",
   "metadata": {},
   "source": [
    "$L(\\lambda_1, x, y) = 3 - 8x + 6y + \\lambda_1 \\cdot (x^2 + y^2 -36)$"
   ]
  },
  {
   "cell_type": "markdown",
   "metadata": {},
   "source": [
    "$\\begin{equation*}\n",
    " \\begin{cases}\n",
    "   L_x' = -8 + 2 \\lambda_1 x = 0, \n",
    "   \\\\\n",
    "   L_y' = 6 + 2 \\lambda_1 y = 0,\n",
    "   \\\\\n",
    "   L_{\\lambda_1}' = x^2 + y^2 - 36 = 0,\n",
    " \\end{cases}\n",
    "\\end{equation*}$"
   ]
  },
  {
   "cell_type": "markdown",
   "metadata": {},
   "source": [
    "$\\begin{equation*}\n",
    " \\begin{cases}\n",
    "   x = \\frac{4}{\\lambda_1},\n",
    "   \\\\\n",
    "   y = - \\frac{3}{\\lambda_1},\n",
    "   \\\\\n",
    "   \\lambda_1 = \\pm \\frac{5}{6}\n",
    " \\end{cases}\n",
    "\\end{equation*}$"
   ]
  },
  {
   "cell_type": "markdown",
   "metadata": {},
   "source": [
    "Таким образом у нас нашлись два экстремума, которые необходимо исследовать на максимум\\минимум: $(\\frac{5}{6}, \\frac{24}{5}, - \\frac{18}{5}), (- \\frac{5}{6}, - \\frac{24}{5}, \\frac{18}{5})$"
   ]
  },
  {
   "cell_type": "markdown",
   "metadata": {},
   "source": [
    "$L_{xx}'' = 2 \\lambda_1$"
   ]
  },
  {
   "cell_type": "markdown",
   "metadata": {},
   "source": [
    "$L_{yy}'' = 2 \\lambda_1$"
   ]
  },
  {
   "cell_type": "markdown",
   "metadata": {},
   "source": [
    "$L_{\\lambda_1 \\lambda_1}'' = 0$"
   ]
  },
  {
   "cell_type": "markdown",
   "metadata": {},
   "source": [
    "$L_{xy}'' = 0$"
   ]
  },
  {
   "cell_type": "markdown",
   "metadata": {},
   "source": [
    "$L_{\\lambda_1 x}'' = 2x$"
   ]
  },
  {
   "cell_type": "markdown",
   "metadata": {},
   "source": [
    "$L_{\\lambda_1 y}'' = 2y$"
   ]
  },
  {
   "cell_type": "markdown",
   "metadata": {},
   "source": [
    "$\\begin{pmatrix}\n",
    "  L_{\\lambda_1 \\lambda_1}'' \\ L_{\\lambda_1 x}'' \\ L_{\\lambda_1 y}''\n",
    "  \\\\\n",
    "  L_{x \\lambda_1}'' \\ L_{xx}'' \\ L_{xy}''\n",
    "  \\\\\n",
    "  L_{y \\lambda_1}'' \\ L_{yx}'' \\ L_{yy}''\n",
    "\\end{pmatrix} = \n",
    "\\begin{pmatrix}\n",
    "  0 \\ 2x \\ 2y\n",
    "  \\\\\n",
    "  2x \\ 2 \\lambda_1 \\ 0\n",
    "  \\\\\n",
    "  2y \\ 0 \\ 2 \\lambda_1\n",
    "\\end{pmatrix}$"
   ]
  },
  {
   "cell_type": "markdown",
   "metadata": {},
   "source": [
    "$\\Delta = 0 \\cdot (2 \\lambda_1 \\cdot \\lambda_1 - 0 \\cdot 0) - 2x \\cdot (2x \\cdot 2 \\lambda_1 - 2y \\cdot 0) + 2y \\cdot (2x \\cdot 0 - 2y \\cdot 2 \\lambda_1) = - 8 x^2 \\lambda_1 - 8 y^2 \\lambda_1 = -8 \\lambda_1 \\cdot (x^2 + y^2)$"
   ]
  },
  {
   "cell_type": "markdown",
   "metadata": {},
   "source": [
    "Подставляя значения $\\lambda_1, x, y$ из полученных точек мы установим, что точка $(\\frac{5}{6}, \\frac{24}{5}, - \\frac{18}{5})$ является минимумом, а $(- \\frac{5}{6}, - \\frac{24}{5}, \\frac{18}{5})$ - максимумом."
   ]
  },
  {
   "cell_type": "markdown",
   "metadata": {},
   "source": [
    "### 2. Исследовать функцию $U = x^2 + 12xy + 32y^2 + 15$ на условный экстремум, если $x^2 + 16y^2 = 64$."
   ]
  },
  {
   "cell_type": "markdown",
   "metadata": {},
   "source": [
    "$L = 2x^2 + 12xy + 32y^2 + 15 + \\lambda \\cdot (x^2 + 16y^2 - 64)$"
   ]
  },
  {
   "cell_type": "markdown",
   "metadata": {},
   "source": [
    "$\\begin{equation*}\n",
    " \\begin{cases}\n",
    "   L_x' = 4x + 12y + 2x \\lambda_1 = 0\n",
    "   \\\\\n",
    "   L_y' = 12x + 64y + 32y \\lambda_1 = 0\n",
    "   \\\\\n",
    "   L_{\\lambda_1}' = x^2 + 16y^2 - 64 = 0\n",
    " \\end{cases}\n",
    "\\end{equation*}$"
   ]
  },
  {
   "cell_type": "markdown",
   "metadata": {},
   "source": [
    "$\\begin{equation*}\n",
    " \\begin{cases}\n",
    "   \\lambda_1 = - \\frac{2x + 6y}{x}\n",
    "   \\\\\n",
    "   \\lambda_1 = - \\frac{3x + 16y}{8y}\n",
    "   \\\\\n",
    "   x^2 + 16y^2 = 64\n",
    " \\end{cases}\n",
    "\\end{equation*}$"
   ]
  },
  {
   "cell_type": "markdown",
   "metadata": {},
   "source": [
    "$\\begin{equation*}\n",
    " \\begin{cases}\n",
    "   \\lambda_1 = - \\frac{2x + 6y}{x}\n",
    "   \\\\\n",
    "   - \\frac{2x + 6y}{x} = - \\frac{3x + 16y}{8y}\n",
    "   \\\\\n",
    "   x^2 + 16y^2 = 64\n",
    " \\end{cases}\n",
    "\\end{equation*}$"
   ]
  },
  {
   "cell_type": "markdown",
   "metadata": {},
   "source": [
    "$\\begin{equation*}\n",
    " \\begin{cases}\n",
    "   \\lambda_1 = - \\frac{2x + 6y}{x}\n",
    "   \\\\\n",
    "   8y \\cdot (2x + 6y) = x \\cdot (3x + 16y)\n",
    "   \\\\\n",
    "   x^2 + 16y^2 = 64\n",
    " \\end{cases}\n",
    "\\end{equation*}$"
   ]
  },
  {
   "cell_type": "markdown",
   "metadata": {},
   "source": [
    "$\\begin{equation*}\n",
    " \\begin{cases}\n",
    "   \\lambda_1 = - \\frac{2x + 6y}{x}\n",
    "   \\\\\n",
    "   48y^2 = 3x^2\n",
    "   \\\\\n",
    "   x^2 + 16y^2 = 64\n",
    " \\end{cases}\n",
    "\\end{equation*}$"
   ]
  },
  {
   "cell_type": "markdown",
   "metadata": {},
   "source": [
    "$\\begin{equation*}\n",
    " \\begin{cases}\n",
    "   \\lambda_1 = - \\frac{2x + 6y}{x}\n",
    "   \\\\\n",
    "   x^2 = 16y^2\n",
    "   \\\\\n",
    "   x^2 + x^2 = 64\n",
    " \\end{cases}\n",
    "\\end{equation*}$"
   ]
  },
  {
   "cell_type": "markdown",
   "metadata": {},
   "source": [
    "$\\begin{equation*}\n",
    " \\begin{cases}\n",
    "   \\lambda_1 = - \\frac{2x + 6y}{x}\n",
    "   \\\\\n",
    "   32 = 16y^2\n",
    "   \\\\\n",
    "   x^2 = 32\n",
    " \\end{cases}\n",
    "\\end{equation*}$"
   ]
  },
  {
   "cell_type": "markdown",
   "metadata": {},
   "source": [
    "$\\begin{equation*}\n",
    " \\begin{cases}\n",
    "   \\lambda_1 = - \\frac{2x + 6y}{x}\n",
    "   \\\\\n",
    "   y = \\pm \\sqrt{2}\n",
    "   \\\\\n",
    "   x = \\pm 4 \\sqrt{2}\n",
    " \\end{cases}\n",
    "\\end{equation*}$"
   ]
  },
  {
   "cell_type": "markdown",
   "metadata": {},
   "source": [
    "$\\lambda_1 = - \\frac{8 \\sqrt{2} + 6 \\sqrt{2}}{4 \\sqrt{2}} = - \\frac{7}{2}$"
   ]
  },
  {
   "cell_type": "markdown",
   "metadata": {},
   "source": [
    "Точка $(- \\frac{7}{2}, 4 \\sqrt{2}, \\sqrt{2})$"
   ]
  },
  {
   "cell_type": "markdown",
   "metadata": {},
   "source": [
    "$\\lambda_1 = - \\frac{- 8 \\sqrt{2} + 6 \\sqrt{2}}{- 4 \\sqrt{2}} = - \\frac{1}{2}$"
   ]
  },
  {
   "cell_type": "markdown",
   "metadata": {},
   "source": [
    "Точка $(- \\frac{1}{2}, - 4 \\sqrt{2}, \\sqrt{2})$"
   ]
  },
  {
   "cell_type": "markdown",
   "metadata": {},
   "source": [
    "$\\lambda_1 = - \\frac{8 \\sqrt{2} - 6 \\sqrt{2}}{4 \\sqrt{2}} = - \\frac{1}{2}$"
   ]
  },
  {
   "cell_type": "markdown",
   "metadata": {},
   "source": [
    "Точка $(- \\frac{1}{2}, 4 \\sqrt{2}, -\\sqrt{2})$"
   ]
  },
  {
   "cell_type": "markdown",
   "metadata": {},
   "source": [
    "$\\lambda_1 = - \\frac{- 8 \\sqrt{2} - 6 \\sqrt{2}}{- 4 \\sqrt{2}} = - \\frac{7}{2}$"
   ]
  },
  {
   "cell_type": "markdown",
   "metadata": {},
   "source": [
    "Точка $(- \\frac{7}{2}, 4 \\sqrt{2}, \\sqrt{2})$"
   ]
  },
  {
   "cell_type": "markdown",
   "metadata": {},
   "source": [
    "$L_{\\lambda_1 \\lambda_1}'' = 0, L_{\\lambda_1 x}'' = 2x, L_{\\lambda_1 y}'' = 32y, L_{xx}'' = 4 + 2\\lambda_1, L_{yy}'' = 64 + 32\\lambda_1, L_{xy}'' = 12$"
   ]
  },
  {
   "cell_type": "markdown",
   "metadata": {},
   "source": [
    "$\\begin{pmatrix}\n",
    "  L_{\\lambda_1 \\lambda_1}'' \\ L_{\\lambda_1 x}'' \\ L_{\\lambda_1 y}''\n",
    "  \\\\\n",
    "  L_{x \\lambda_1}'' \\ L_{xx}'' \\ L_{xy}''\n",
    "  \\\\\n",
    "  L_{y \\lambda_1}'' \\ L_{yx}'' \\ L_{yy}''\n",
    "\\end{pmatrix} = \n",
    "\\begin{pmatrix}\n",
    "  0 \\ 2x \\ 32y\n",
    "  \\\\\n",
    "  2x \\ 4 + 2\\lambda_1 \\ 12\n",
    "  \\\\\n",
    "  32y \\ 12 \\ 64 + 32 \\lambda_1\n",
    "\\end{pmatrix}$"
   ]
  },
  {
   "cell_type": "markdown",
   "metadata": {},
   "source": [
    "$\\Delta = 0 \\cdot ((4 + 2 \\lambda_1) \\cdot (64 + 32\\lambda_1) - 12 \\cdot 12) - 2x \\cdot (2x \\cdot (64 + 32\\lambda_1) - 12 \\cdot 32y) + 32y \\cdot (2x \\cdot 12 - 32y \\cdot (4 + 2\\lambda_1)) = -2x \\cdot (128x + 64x\\lambda_1 - 384y) + 32y \\cdot (24x - 128y - 64y\\lambda_1) = x^2 \\cdot (-256 - 128\\lambda_1) + 1536xy + y^2 \\cdot (- 4096 - 2048\\lambda_1)$"
   ]
  },
  {
   "cell_type": "code",
   "execution_count": 1,
   "metadata": {},
   "outputs": [],
   "source": [
    "from math import sqrt"
   ]
  },
  {
   "cell_type": "code",
   "execution_count": 2,
   "metadata": {},
   "outputs": [],
   "source": [
    "# Точка №1\n",
    "x1 = 4*sqrt(2)\n",
    "y1 = sqrt(2)\n",
    "l1 = -7/2\n",
    "\n",
    "# Точка №2\n",
    "x2 = -4*sqrt(2)\n",
    "y2 = sqrt(2)\n",
    "l2 = -1/2\n",
    "\n",
    "# Точка №3\n",
    "x3 = 4*sqrt(2)\n",
    "y3 = -sqrt(2)\n",
    "l3 = -1/2\n",
    "\n",
    "# Точка №4\n",
    "x4 = -4*sqrt(2)\n",
    "y4 = -sqrt(2)\n",
    "l4 = -7/2"
   ]
  },
  {
   "cell_type": "code",
   "execution_count": 3,
   "metadata": {},
   "outputs": [
    {
     "name": "stdout",
     "output_type": "stream",
     "text": [
      "Точка 1 - 24576.000000000007,\n",
      "Точка 2 - -24576.000000000007,\n",
      "Точка 3 - -24576.000000000007,\n",
      "Точка 4 - 24576.000000000007\n"
     ]
    }
   ],
   "source": [
    "print(f'Точка 1 - {(x1**2)*(-256 - 128*l1) + 1536*x1*y1 + (y1**2)*(-4096 - 2048*l1)},\\nТочка 2 - {(x2**2)*(-256 - 128*l2) + 1536*x2*y2 + (y2**2)*(-4096 - 2048*l2)},\\nТочка 3 - {(x3**2)*(-256 - 128*l3) + 1536*x3*y3 + (y3**2)*(-4096 - 2048*l3)},\\nТочка 4 - {(x4**2)*(-256 - 128*l4) + 1536*x4*y4 + (y4**2)*(-4096 - 2048*l4)}')"
   ]
  },
  {
   "cell_type": "markdown",
   "metadata": {},
   "source": [
    "Таким образом\n",
    "\n",
    "$(- \\frac{7}{2}, 4\\sqrt{2}, \\sqrt{2})$ - максимум\n",
    "\n",
    "$(- \\frac{1}{2}, - 4\\sqrt{2}, \\sqrt{2})$ - минимум\n",
    "\n",
    "$(- \\frac{1}{2}, 4\\sqrt{2}, - \\sqrt{2})$ - минимум\n",
    "\n",
    "$(- \\frac{7}{2}, - 4\\sqrt{2}, -\\sqrt{2})$ - максимум"
   ]
  },
  {
   "cell_type": "markdown",
   "metadata": {},
   "source": [
    "### 3. Найти производную функции $U = x^2 + y^2 + z^2$ по направлению вектора $\\overline{c}(-9, 8, -12)$ в точке $M(8; -12; 9)$."
   ]
  },
  {
   "cell_type": "markdown",
   "metadata": {},
   "source": [
    "$|c| = \\sqrt{81 + 64 + 144} = \\sqrt{289} = 17$"
   ]
  },
  {
   "cell_type": "markdown",
   "metadata": {},
   "source": [
    "$cos \\alpha = - \\frac{9}{17}, cos \\beta = \\frac{8}{17}, cos \\gamma = - \\frac{12}{17}$"
   ]
  },
  {
   "cell_type": "markdown",
   "metadata": {},
   "source": [
    "$U_x' = 2x, U_y' = 2y, U_z' = 2z$"
   ]
  },
  {
   "cell_type": "markdown",
   "metadata": {},
   "source": [
    "$\\frac{\\partial{U}}{\\partial{c}} = 2 \\cdot 8 \\cdot -\\frac{9}{17} + 2 (-12) \\frac{8}{17} + 2 \\cdot 9 \\cdot -\\frac{12}{17} = - \\frac{144}{17} - \\frac{192}{17} - \\frac{216}{17} = - \\frac{552}{17}$"
   ]
  },
  {
   "cell_type": "markdown",
   "metadata": {},
   "source": [
    "### 4. Найти производную функции $U = e^{x^2 + y^2 + z^2}$ по направлению вектора $\\overline{d}(4, -13, -16)$ в точку $L(-16, 4, -13)$"
   ]
  },
  {
   "cell_type": "markdown",
   "metadata": {},
   "source": [
    "$|d| = \\sqrt{16 + 169 +256} = \\sqrt{441} = 21$"
   ]
  },
  {
   "cell_type": "markdown",
   "metadata": {},
   "source": [
    "$cos \\alpha = \\frac{4}{21}, cos \\beta = - \\frac{13}{21}, cos \\gamma = - \\frac{16}{21}$"
   ]
  },
  {
   "cell_type": "markdown",
   "metadata": {},
   "source": [
    "$U_x' = 2x \\cdot e^{x^2 + y^2 +z^2}, U_y' = 2y \\cdot e^{x^2 + y^2 + z^2}, U_z' = 2z \\cdot e^{x^2 + y^2 + z^2}$"
   ]
  },
  {
   "cell_type": "markdown",
   "metadata": {},
   "source": [
    "$|d| = \\sqrt{16 + 169 + 256} = \\sqrt{441} = 21$"
   ]
  },
  {
   "cell_type": "markdown",
   "metadata": {},
   "source": [
    "$cos \\alpha = \\frac{4}{21}, cos \\beta = - \\frac{13}{21}, cos \\gamma = - \\frac{16}{21}$"
   ]
  },
  {
   "cell_type": "markdown",
   "metadata": {},
   "source": [
    "$\\frac{\\partial{U}}{\\partial{d}} = 2 \\cdot (-16) \\cdot e^{441} \\cdot \\frac{4}{21} + 2 \\cdot 4 \\cdot e^{441} \\cdot (- \\frac{13}{21}) + 2 \\cdot (-13) \\cdot e^{441} \\cdot (- \\frac{16}{21}) = 2 \\cdot e^{441} \\cdot (\\frac{- 16 \\cdot 4}{21} + \\frac{-4 \\cdot 13}{21} + \\frac{13 \\cdot 16}{21}) = \\frac{184}{21} \\cdot e^{441}$"
   ]
  }
 ],
 "metadata": {
  "kernelspec": {
   "display_name": "Python 3",
   "language": "python",
   "name": "python3"
  },
  "language_info": {
   "codemirror_mode": {
    "name": "ipython",
    "version": 3
   },
   "file_extension": ".py",
   "mimetype": "text/x-python",
   "name": "python",
   "nbconvert_exporter": "python",
   "pygments_lexer": "ipython3",
   "version": "3.8.5"
  }
 },
 "nbformat": 4,
 "nbformat_minor": 4
}
