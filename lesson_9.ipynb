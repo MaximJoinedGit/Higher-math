{
 "cells": [
  {
   "cell_type": "markdown",
   "metadata": {},
   "source": [
    "## <center> Урок 9</center>\n",
    "<hr>"
   ]
  },
  {
   "cell_type": "markdown",
   "metadata": {},
   "source": [
    "## <center> Понятие об интеграле </center>"
   ]
  },
  {
   "cell_type": "markdown",
   "metadata": {},
   "source": [
    "### 1. Найти неопределенный интеграл:"
   ]
  },
  {
   "cell_type": "markdown",
   "metadata": {},
   "source": [
    "#### $\\int{(2x^2 - 2x - 1 + sinx -cosx + lnx + e^x)}dx$"
   ]
  },
  {
   "cell_type": "markdown",
   "metadata": {},
   "source": [
    "$\\int{2x^2}dx = \\frac{2x^3}{3} + c$"
   ]
  },
  {
   "cell_type": "markdown",
   "metadata": {},
   "source": [
    "$\\int{-2x}dx = -\\frac{2x^2}{2} + c$"
   ]
  },
  {
   "cell_type": "markdown",
   "metadata": {},
   "source": [
    "$\\int{-1}dx = -x + c$"
   ]
  },
  {
   "cell_type": "markdown",
   "metadata": {},
   "source": [
    "$\\int{sinx}dx = -cosx + c$"
   ]
  },
  {
   "cell_type": "markdown",
   "metadata": {},
   "source": [
    "$\\int{-cosx}dx = -sinx + c$"
   ]
  },
  {
   "cell_type": "markdown",
   "metadata": {},
   "source": [
    "$\\int{lnx}dx = xlnx - x + c$"
   ]
  },
  {
   "cell_type": "markdown",
   "metadata": {},
   "source": [
    "$\\int{e^x}dx = e^x + c$"
   ]
  },
  {
   "cell_type": "markdown",
   "metadata": {},
   "source": [
    "$\\int{(2x^2 - 2x - 1 + sinx -cosx + lnx + e^x)}dx = \\frac{2x^3}{3} - \\frac{2x^2}{2} - 2x - cosx - sinx + xlnx + e^x + c$"
   ]
  },
  {
   "cell_type": "markdown",
   "metadata": {},
   "source": [
    "### 2. Найти неопределенный интеграл:"
   ]
  },
  {
   "cell_type": "markdown",
   "metadata": {},
   "source": [
    "#### $\\int{(2x + 6xz^2 - 5x^2y - 3lnz)}dx$"
   ]
  },
  {
   "cell_type": "markdown",
   "metadata": {},
   "source": [
    "$\\int{2x}dx = x^2 + c$"
   ]
  },
  {
   "cell_type": "markdown",
   "metadata": {},
   "source": [
    "$\\int{6xz^2}dx = 3x^2z^2 + c$"
   ]
  },
  {
   "cell_type": "markdown",
   "metadata": {},
   "source": [
    "$\\int{-5x^2y}dx = - \\frac{5x^3y}{3} + c$"
   ]
  },
  {
   "cell_type": "markdown",
   "metadata": {},
   "source": [
    "$\\int{-3lnz}dx = -3xlnz + c$"
   ]
  },
  {
   "cell_type": "markdown",
   "metadata": {},
   "source": [
    "$\\int{(2x + 6xz^2 - 5x^2y - 3lnz)}dx = x^2 + 3x^2z^2 - \\frac{5}{3}x^3y - 3xlnz + c$"
   ]
  },
  {
   "cell_type": "markdown",
   "metadata": {},
   "source": [
    "### 3. Вычислить определенный интеграл:"
   ]
  },
  {
   "cell_type": "markdown",
   "metadata": {},
   "source": [
    "#### $\\int\\limits_0^\\pi(3x^2sin(2x))dx$"
   ]
  },
  {
   "cell_type": "markdown",
   "metadata": {},
   "source": [
    "Для начала применим метод интегрирования по частям по формуле:"
   ]
  },
  {
   "cell_type": "markdown",
   "metadata": {},
   "source": [
    "$U=3x^2\\ =>\\ dU=3x^2dx=6xdx$\n",
    "\n",
    "$dV=sin(2x)dx\\ =>\\ V=-\\frac{cos(2x)}{2}$"
   ]
  },
  {
   "cell_type": "markdown",
   "metadata": {},
   "source": [
    "$\\int\\limits_0^\\pi(3x^2sin(2x))dx=3x^2\\cdot(-\\frac{cos(2x)}{2})\\bigg|_0^\\pi+\\int\\limits_0^\\pi\\frac{cos(2x)}{2}\\cdot6xdx$"
   ]
  },
  {
   "cell_type": "markdown",
   "metadata": {},
   "source": [
    "Теперь еще раз применим метод, чтобы избавиться от x:"
   ]
  },
  {
   "cell_type": "markdown",
   "metadata": {},
   "source": [
    "$U=6x\\ =>\\ dU=6dx$\n",
    "\n",
    "$dV=\\frac{cos(2x)}{2}dx\\ =>\\ V=\\frac{sin(2x)}{4}$"
   ]
  },
  {
   "cell_type": "markdown",
   "metadata": {},
   "source": [
    "Таким образом задача сведется к нахождению табличного интеграла:"
   ]
  },
  {
   "cell_type": "markdown",
   "metadata": {},
   "source": [
    "$-3x^2\\cdot\\frac{cos(2x)}{2}+\\frac{3xsin(2x)}{2}\\bigg|_0^\\pi-6\\int\\limits_0^\\pi\\frac{sin(2x)}{4}dx=(3-6x^2)\\cdot\\frac{cos(2x)}{4}+\\frac{3xsin(2x)}{2}+C\\bigg|_0^\\pi=-\\frac{3\\pi^2}{2}$"
   ]
  },
  {
   "cell_type": "markdown",
   "metadata": {},
   "source": [
    "### 4. Найти неопределенный интеграл:"
   ]
  },
  {
   "cell_type": "markdown",
   "metadata": {},
   "source": [
    "#### $\\int{(\\frac{1}{\\sqrt{x + 1}})}dx$"
   ]
  },
  {
   "cell_type": "markdown",
   "metadata": {},
   "source": [
    "$\\int{(\\frac{1}{\\sqrt{x + 1}})}dx = \\int{(x + 1)}^{-1/2}dx = 2\\sqrt{x + 1} + c$"
   ]
  }
 ],
 "metadata": {
  "kernelspec": {
   "display_name": "Python 3",
   "language": "python",
   "name": "python3"
  },
  "language_info": {
   "codemirror_mode": {
    "name": "ipython",
    "version": 3
   },
   "file_extension": ".py",
   "mimetype": "text/x-python",
   "name": "python",
   "nbconvert_exporter": "python",
   "pygments_lexer": "ipython3",
   "version": "3.8.5"
  }
 },
 "nbformat": 4,
 "nbformat_minor": 4
}
